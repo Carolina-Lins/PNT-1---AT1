{
  "nbformat": 4,
  "nbformat_minor": 0,
  "metadata": {
    "colab": {
      "provenance": []
    },
    "kernelspec": {
      "name": "python3",
      "display_name": "Python 3"
    },
    "language_info": {
      "name": "python"
    }
  },
  "cells": [
    {
      "cell_type": "code",
      "execution_count": null,
      "metadata": {
        "colab": {
          "base_uri": "https://localhost:8080/"
        },
        "id": "BbtVF-zTOfJZ",
        "outputId": "ce3958d0-15b9-4a61-98d3-a083bd4bba04"
      },
      "outputs": [
        {
          "output_type": "stream",
          "name": "stdout",
          "text": [
            "olá ETE Cícero Dias\n"
          ]
        }
      ],
      "source": [
        "# ETE CÍCERO DIAS\n",
        "# ALUNA: MARIA CAROLINA LINS DE OLIEIRA\n",
        "\n",
        "# QUESTÃO 1\n",
        "\n",
        "print('Olá ETE Cícero Dias')"
      ]
    },
    {
      "cell_type": "code",
      "source": [
        "# questão 2\n",
        "\n",
        "num = float(input('Digite um número: \\n'))\n",
        "print ('O número que você digtou foi: ',num)"
      ],
      "metadata": {
        "colab": {
          "base_uri": "https://localhost:8080/"
        },
        "id": "LOTmEzHKP_WC",
        "outputId": "2b11c789-3bf5-4997-bc9a-d28220529c67"
      },
      "execution_count": null,
      "outputs": [
        {
          "output_type": "stream",
          "name": "stdout",
          "text": [
            "Digite um número: \n",
            "13\n",
            "O número que você digtou foi:  13.0\n"
          ]
        }
      ]
    },
    {
      "cell_type": "code",
      "source": [
        "# questão 3\n",
        "\n",
        "valor1 = float(input('digite um número: \\n'))\n",
        "valor2 = float(input('digite um número: \\n'))\n",
        "\n",
        "\n",
        "print ('O resultado da soma dos dois números inseridos acima é:',valor1 + valor2,'')"
      ],
      "metadata": {
        "colab": {
          "base_uri": "https://localhost:8080/"
        },
        "id": "DzhIAAk5QuTS",
        "outputId": "d9b0d79a-22a2-4410-ad92-0800f0dfb275"
      },
      "execution_count": null,
      "outputs": [
        {
          "output_type": "stream",
          "name": "stdout",
          "text": [
            "digite um número: \n",
            "5\n",
            "digite um número: \n",
            "8\n",
            "O resultado da soma dos dois números inseridos acima é: 13.0 \n"
          ]
        }
      ]
    },
    {
      "cell_type": "code",
      "source": [
        "# questão 4\n",
        "\n",
        "n1 = float(input('digite sua primeira nota: \\n'))\n",
        "n2 = float(input('digite sua segunda nota: \\n'))\n",
        "n3 = float(input('digite sua terceira nota: \\n'))\n",
        "n4 = float(input('digite sua quarta nota: \\n'))\n",
        "\n",
        "media = (n1+n2+n3+n4)/4\n",
        "\n",
        "print('sua média final foi:',media)"
      ],
      "metadata": {
        "colab": {
          "base_uri": "https://localhost:8080/"
        },
        "id": "hOafhFxNRd4T",
        "outputId": "b8f70a27-b3bf-472f-c8a7-7fa6c6d2222e"
      },
      "execution_count": null,
      "outputs": [
        {
          "output_type": "stream",
          "name": "stdout",
          "text": [
            "digite sua primeira nota: \n",
            "8\n",
            "digite sua segunda nota: \n",
            "4\n",
            "digite sua terceira nota: \n",
            "5\n",
            "digite sua quarta nota: \n",
            "10\n",
            "sua média final foi: 6.75\n"
          ]
        }
      ]
    },
    {
      "cell_type": "code",
      "source": [
        " # questão 5\n",
        "\n",
        "m = float(input('insira um valor em metros para conversão em centímetros: \\n'))\n",
        "cm = m * 100\n",
        "print('',m,' metros convertido para centímetros é:',cm,'centímetros')"
      ],
      "metadata": {
        "id": "dgDdJJb4S4cJ"
      },
      "execution_count": null,
      "outputs": []
    },
    {
      "cell_type": "code",
      "source": [
        " # questão 7\n",
        "\n",
        "b = float(input('digite a largura de um quadrilatero \\n' ))\n",
        "h = float(input('digite a altura de um quadrilatero: \\n'))\n",
        "area = b * h\n",
        "\n",
        "\n",
        "print('a área do quadilatero é: \\n',area,)\n",
        "\n",
        "area2 = area * 2\n",
        "\n",
        "print('0 dobro da área é: \\n',area2,)\n"
      ],
      "metadata": {
        "id": "368T9202TRQ_"
      },
      "execution_count": null,
      "outputs": []
    },
    {
      "cell_type": "code",
      "source": [
        "# questão 8\n",
        "\n",
        "salarioPH = float(input('Quanto você recebe por hora? \\n'))\n",
        "horastrab = float(input('Quantas horas você trabalha por dia? \\n'))\n",
        "diastrab = int(input('quantos dias do mês você trabalhou? \\n'))\n",
        "salariomensal =  (salarioPH * horastrab) * diastrab\n",
        "\n",
        "print('seu salário no mês em questão foi de:',salariomensal,)"
      ],
      "metadata": {
        "id": "zqj9CA5uTcJv",
        "colab": {
          "base_uri": "https://localhost:8080/"
        },
        "outputId": "b0f8b7bf-a24b-4980-a990-3c5c1d05c1fb"
      },
      "execution_count": 1,
      "outputs": [
        {
          "output_type": "stream",
          "name": "stdout",
          "text": [
            "Quanto você recebe por hora? \n",
            "10\n",
            "Quantas horas você trabalha por dia? \n",
            "8\n",
            "quantos dias do mês você trabalhou? \n",
            "20\n",
            "seu salário no mês em questão foi de: 1600.0\n"
          ]
        }
      ]
    },
    {
      "cell_type": "code",
      "source": [
        "# questão 9\n",
        "\n",
        "num = float(input('digite um número: \\n'))\n",
        "\n",
        "if num < 0:\n",
        "  print('Número digitado(',num , ') é negativo')\n",
        "else:\n",
        "  print('Número digitado(',num,') é positivo.')\n"
      ],
      "metadata": {
        "id": "F54vSp3PTeJX"
      },
      "execution_count": null,
      "outputs": []
    },
    {
      "cell_type": "code",
      "source": [
        "# questão 10\n",
        "\n",
        "gen = str(input('digite seu gênero: \\n'))\n",
        "\n",
        "if gen == 'F':\n",
        "  print('Feminino')\n",
        "elif gen == 'M':\n",
        "  print('Masculino')"
      ],
      "metadata": {
        "id": "yBouzjCNTgL3"
      },
      "execution_count": null,
      "outputs": []
    }
  ]
}